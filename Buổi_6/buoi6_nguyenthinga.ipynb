{
 "cells": [
  {
   "cell_type": "markdown",
   "metadata": {},
   "source": [
    "### 1.Create features"
   ]
  },
  {
   "cell_type": "code",
   "execution_count": 57,
   "metadata": {},
   "outputs": [],
   "source": [
    "# Import libraries\n",
    "import pandas as pd\n",
    "import matplotlib.pyplot as plt\n",
    "import numpy as np"
   ]
  },
  {
   "cell_type": "code",
   "execution_count": 58,
   "metadata": {},
   "outputs": [
    {
     "data": {
      "text/html": [
       "<div>\n",
       "<style scoped>\n",
       "    .dataframe tbody tr th:only-of-type {\n",
       "        vertical-align: middle;\n",
       "    }\n",
       "\n",
       "    .dataframe tbody tr th {\n",
       "        vertical-align: top;\n",
       "    }\n",
       "\n",
       "    .dataframe thead th {\n",
       "        text-align: right;\n",
       "    }\n",
       "</style>\n",
       "<table border=\"1\" class=\"dataframe\">\n",
       "  <thead>\n",
       "    <tr style=\"text-align: right;\">\n",
       "      <th></th>\n",
       "      <th>tv</th>\n",
       "      <th>radio</th>\n",
       "      <th>social_media</th>\n",
       "      <th>influencer</th>\n",
       "      <th>sales</th>\n",
       "    </tr>\n",
       "  </thead>\n",
       "  <tbody>\n",
       "    <tr>\n",
       "      <th>0</th>\n",
       "      <td>16000.0</td>\n",
       "      <td>6566.23</td>\n",
       "      <td>2907.98</td>\n",
       "      <td>Mega</td>\n",
       "      <td>54732.76</td>\n",
       "    </tr>\n",
       "    <tr>\n",
       "      <th>1</th>\n",
       "      <td>13000.0</td>\n",
       "      <td>9237.76</td>\n",
       "      <td>2409.57</td>\n",
       "      <td>Mega</td>\n",
       "      <td>46677.90</td>\n",
       "    </tr>\n",
       "    <tr>\n",
       "      <th>2</th>\n",
       "      <td>41000.0</td>\n",
       "      <td>15886.45</td>\n",
       "      <td>2913.41</td>\n",
       "      <td>Mega</td>\n",
       "      <td>150177.83</td>\n",
       "    </tr>\n",
       "    <tr>\n",
       "      <th>3</th>\n",
       "      <td>83000.0</td>\n",
       "      <td>30020.03</td>\n",
       "      <td>6922.30</td>\n",
       "      <td>Mega</td>\n",
       "      <td>298246.34</td>\n",
       "    </tr>\n",
       "    <tr>\n",
       "      <th>4</th>\n",
       "      <td>15000.0</td>\n",
       "      <td>8437.41</td>\n",
       "      <td>1406.00</td>\n",
       "      <td>Micro</td>\n",
       "      <td>56594.18</td>\n",
       "    </tr>\n",
       "  </tbody>\n",
       "</table>\n",
       "</div>"
      ],
      "text/plain": [
       "        tv     radio  social_media influencer      sales\n",
       "0  16000.0   6566.23       2907.98       Mega   54732.76\n",
       "1  13000.0   9237.76       2409.57       Mega   46677.90\n",
       "2  41000.0  15886.45       2913.41       Mega  150177.83\n",
       "3  83000.0  30020.03       6922.30       Mega  298246.34\n",
       "4  15000.0   8437.41       1406.00      Micro   56594.18"
      ]
     },
     "execution_count": 58,
     "metadata": {},
     "output_type": "execute_result"
    }
   ],
   "source": [
    "# Load data vào sales_df\n",
    "sales_df = pd.read_csv('advertising_and_sales_clean.csv')\n",
    "sales_df.head()"
   ]
  },
  {
   "cell_type": "code",
   "execution_count": 59,
   "metadata": {},
   "outputs": [
    {
     "name": "stdout",
     "output_type": "stream",
     "text": [
      "(13638, 1)\n",
      "(4546, 1)\n"
     ]
    }
   ],
   "source": [
    "# Create x, an array of the values from the sales_df DataFrame's \"radio\" column\n",
    "X = sales_df[['radio']].values\n",
    "# Create y, an array of the values from the sales_df DataFrame's \"sales\" column\n",
    "y = sales_df[['sales']].values\n",
    "# Reshape x into a two-dimensional Numpy array\n",
    "x = x.reshape(-1, 1)\n",
    "# Print the shape of x and 00y\n",
    "print(x.shape)\n",
    "print(y.shape)"
   ]
  },
  {
   "cell_type": "markdown",
   "metadata": {},
   "source": [
    "### 2.Building a linear regression model"
   ]
  },
  {
   "cell_type": "code",
   "execution_count": 60,
   "metadata": {},
   "outputs": [
    {
     "name": "stdout",
     "output_type": "stream",
     "text": [
      "[[ 95491.17119147]\n",
      " [117829.51038393]\n",
      " [173423.38071499]]\n"
     ]
    }
   ],
   "source": [
    "# Import LinearRegression from the sklearn.linear_model module\n",
    "from sklearn.linear_model import LinearRegression\n",
    "# Instantiate a LinearRegression model\n",
    "model = LinearRegression()\n",
    "model.fit(X, y)\n",
    "# Predict sales values using x, storing as predictions\n",
    "predictions = model.predict(X)\n",
    "print(predictions[:3])"
   ]
  },
  {
   "cell_type": "markdown",
   "metadata": {},
   "source": [
    "### 3.Visualizing a linear regression model"
   ]
  },
  {
   "cell_type": "code",
   "execution_count": 66,
   "metadata": {},
   "outputs": [
    {
     "data": {
      "image/png": "[encoded data removed]",
      "text/plain": [
       "<Figure size 640x480 with 1 Axes>"
      ]
     },
     "metadata": {},
     "output_type": "display_data"
    }
   ],
   "source": [
    "# Import matplotlib.pyplot as plt\n",
    "import matplotlib.pyplot as plt\n",
    "# Create a scatter plot visualizing y against x, with observations in blue\n",
    "plt.scatter(X, y, color='blue')\n",
    "# Draw a red line plot display the predictions against x\n",
    "plt.plot(X, predictions, color='red')\n",
    "# Display the plot\n",
    "plt.grid()\n",
    "plt.show()"
   ]
  },
  {
   "cell_type": "markdown",
   "metadata": {},
   "source": [
    "### 4.Fit and predict for regression"
   ]
  },
  {
   "cell_type": "code",
   "execution_count": null,
   "metadata": {},
   "outputs": [
    {
     "name": "stdout",
     "output_type": "stream",
     "text": [
      "Predictions:  [[ 53176.66154234]\n",
      " [ 70996.19873235]\n",
      " [267032.64132081]]\n",
      "Actual values:  [[ 55261.28]\n",
      " [ 67574.9 ]\n",
      " [272250.11]]\n"
     ]
    }
   ],
   "source": [
    "# Create x, an array containing values of all features in sales_df, and y, containing all values from the \"sales\" column\n",
    "x = sales_df.drop(['sales', 'influencer'], axis=1).values\n",
    "y = sales_df[['sales']].values\n",
    "\n",
    "# Instantiate a LinearRegression model\n",
    "model = LinearRegression()\n",
    "# Fit the model to training data(70% for training, 30% for testing)\n",
    "from sklearn.model_selection import train_test_split\n",
    "X_train, X_test, y_train, y_test = train_test_split(x, y, test_size=0.3, random_state=42)\n",
    "model.fit(X_train, y_train)\n",
    "# Create y_pred, making predictions for sales using the test features\n",
    "y_pred = model.predict(X_test)\n",
    "print(\"Predictions: \", y_pred[:3])\n",
    "print(\"Actual values: \", y_test[:3])"
   ]
  },
  {
   "cell_type": "markdown",
   "metadata": {},
   "source": [
    "### 5.Regression performance"
   ]
  },
  {
   "cell_type": "code",
   "execution_count": null,
   "metadata": {},
   "outputs": [
    {
     "name": "stdout",
     "output_type": "stream",
     "text": [
      "R-squared score:  0.9990152104759368\n",
      "Root mean squared error:  2944.4331996001015\n"
     ]
    },
    {
     "name": "stderr",
     "output_type": "stream",
     "text": [
      "C:\\Users\\Admin\\AppData\\Local\\Packages\\PythonSoftwareFoundation.Python.3.11_qbz5n2kfra8p0\\LocalCache\\local-packages\\Python311\\site-packages\\sklearn\\metrics\\_regression.py:483: FutureWarning: 'squared' is deprecated in version 1.4 and will be removed in 1.6. To calculate the root mean squared error, use the function'root_mean_squared_error'.\n",
      "  warnings.warn(\n"
     ]
    }
   ],
   "source": [
    "# Import mean_squared_error\n",
    "from sklearn.metrics import mean_squared_error\n",
    "# Calculate the model's R-squared score by passing the test features and the test target\n",
    "r2 = r2_score(y_test, y_pred)\n",
    "print(\"R-squared score: \", r2)\n",
    "# Calculate the model's root mean squared error using y_test and y_pred\n",
    "rmse = mean_squared_error(y_test, y_pred, squared=False)\n",
    "print(\"Root mean squared error: \", rmse)\n"
   ]
  },
  {
   "cell_type": "markdown",
   "metadata": {},
   "source": [
    "### 6.Cross-validate for R-squares"
   ]
  },
  {
   "cell_type": "code",
   "execution_count": null,
   "metadata": {},
   "outputs": [
    {
     "name": "stdout",
     "output_type": "stream",
     "text": [
      "cv_scores:  [0.74470218 0.7724344  0.76841901 0.74186012 0.75174985 0.7444348 ]\n"
     ]
    }
   ],
   "source": [
    "\n",
    "# Import KFold and cross_val_score\n",
    "from sklearn.model_selection import KFold, cross_val_score\n",
    "# Create kf by calling KFold, setting the number of splits to 6, shuffle to True, and setting a seed of 5\n",
    "kf = KFold(n_splits=6, shuffle=True, random_state=5)\n",
    "# Perform cross-validate using reg on x and y, passing kf to cv\n",
    "cv_scores = cross_val_score(model, X, y, cv=kf)\n",
    "# Print cv_scores\n",
    "print(\"cv_scores: \", cv_scores)"
   ]
  },
  {
   "cell_type": "markdown",
   "metadata": {},
   "source": [
    "### 7. Analyzing cross-validation metrics"
   ]
  },
  {
   "cell_type": "code",
   "execution_count": null,
   "metadata": {},
   "outputs": [
    {
     "name": "stdout",
     "output_type": "stream",
     "text": [
      "Mean cv_score:  0.7539333927705617\n",
      "Standard deviation of cv_scores:  0.012097455447896869\n",
      "[0.74218195 0.77193247]\n"
     ]
    }
   ],
   "source": [
    "# Display the mean, standard deviation, ang 95% confidence interval of cv_results\n",
    "# Calculate and print the mean of the results\n",
    "cv_score_mean = cv_scores.mean()\n",
    "print(\"Mean cv_score: \", cv_score_mean)\n",
    "# Calculate and print the standard deviation of cv_scores\n",
    "cv_score_std = cv_scores.std()\n",
    "print(\"Standard deviation of cv_scores: \", cv_score_std)\n",
    "# Display the 95% confidence interval for the results using np.quantile()\n",
    "print(np.quantile(cv_scores, [0.025, 0.975]))\n",
    "\n"
   ]
  },
  {
   "cell_type": "markdown",
   "metadata": {},
   "source": [
    "### 8.Regularized regression: Ridge"
   ]
  },
  {
   "cell_type": "code",
   "execution_count": null,
   "metadata": {},
   "outputs": [
    {
     "name": "stdout",
     "output_type": "stream",
     "text": [
      "[0.9990152104759369, 0.9990152104759373, 0.9990152104759419, 0.9990152104759871, 0.9990152104764387, 0.9990152104809561]\n"
     ]
    }
   ],
   "source": [
    "# Import Ridge\n",
    "from sklearn.linear_model import Ridge\n",
    "ridge_scores = []\n",
    "alphas = [0.1, 1.0, 10.0, 100.0, 1000.0, 10000.0]\n",
    "# Instantiate Ridge, setting alpha to alpha \n",
    "for alpha in alphas:\n",
    "    ridge =  Ridge(alpha=alpha)\n",
    "    ridge.fit(X_train, y_train)\n",
    "    score = ridge.score(X_test, y_test)\n",
    "    ridge_scores.append(score)\n",
    "print(ridge_scores)"
   ]
  },
  {
   "cell_type": "markdown",
   "metadata": {},
   "source": [
    "### 9.Lasso regression for fearture importance"
   ]
  },
  {
   "cell_type": "code",
   "execution_count": 63,
   "metadata": {},
   "outputs": [
    {
     "name": "stdout",
     "output_type": "stream",
     "text": [
      "[ 3.56167532 -0.01814078  0.07721587]\n"
     ]
    }
   ],
   "source": [
    "# import Lasso form sklearn.linear_model\n",
    "from sklearn.linear_model import Lasso\n",
    "# Instantiate Lasso, setting alpha to 0.3\n",
    "lasso = Lasso(alpha=0.3)\n",
    "# Fit the model to the training data\n",
    "lasso.fit(X_test, y_test)\n",
    "# Compute and print the coefficients\n",
    "lasso_coef = lasso.coef_\n",
    "print(lasso_coef)"
   ]
  }
 ],
 "metadata": {
  "kernelspec": {
   "display_name": "Python 3",
   "language": "python",
   "name": "python3"
  },
  "language_info": {
   "codemirror_mode": {
    "name": "ipython",
    "version": 3
   },
   "file_extension": ".py",
   "mimetype": "text/x-python",
   "name": "python",
   "nbconvert_exporter": "python",
   "pygments_lexer": "ipython3",
   "version": "3.11.8"
  }
 },
 "nbformat": 4,
 "nbformat_minor": 2
}
